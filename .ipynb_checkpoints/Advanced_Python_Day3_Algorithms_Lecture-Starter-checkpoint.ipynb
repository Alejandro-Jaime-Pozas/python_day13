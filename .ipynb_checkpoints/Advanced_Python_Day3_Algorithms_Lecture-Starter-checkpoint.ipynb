{
 "cells": [
  {
   "cell_type": "markdown",
   "metadata": {},
   "source": [
    "# Classic Algorithms"
   ]
  },
  {
   "cell_type": "markdown",
   "metadata": {},
   "source": [
    "## Tasks Today:\n",
    " \n",
    "1) <b>In-Place Algorithms</b> <br>\n",
    " &nbsp;&nbsp;&nbsp;&nbsp; a) Syntax <br>\n",
    " &nbsp;&nbsp;&nbsp;&nbsp; a) Out of Place Algorithm <br>\n",
    " &nbsp;&nbsp;&nbsp;&nbsp; b) In-Class Exercise #1 <br>\n",
    "2) <b>Two Pointers</b> <br>\n",
    "3) <b>Sorting Algorithms: bubble sort, insertion sort</b> <br>\n",
    "4) <b>Merge Sort</b> <br>\n",
    " &nbsp;&nbsp;&nbsp;&nbsp; a) Video on Algorithms <br>\n",
    " &nbsp;&nbsp;&nbsp;&nbsp; b) How it Works <br>\n",
    "5) <b>Exercises</b> <br>\n",
    " &nbsp;&nbsp;&nbsp;&nbsp; a) Exercise #1 - Reverse a List in Place Using an In-Place Algorithm <br>\n",
    " &nbsp;&nbsp;&nbsp;&nbsp; b) Exercise #2 - Find Distinct Words <br>\n",
    " &nbsp;&nbsp;&nbsp;&nbsp; c) Exercise #3 - Write a program to implement a Linear Search Algorithm. <br>"
   ]
  },
  {
   "cell_type": "code",
   "execution_count": 6,
   "metadata": {
    "scrolled": true
   },
   "outputs": [
    {
     "name": "stdout",
     "output_type": "stream",
     "text": [
      "0 0\n",
      "0 1\n",
      "0 2\n",
      "1 0\n",
      "1 1\n",
      "1 2\n",
      "2 0\n",
      "2 1\n",
      "2 2\n"
     ]
    },
    {
     "data": {
      "text/plain": [
       "9"
      ]
     },
     "execution_count": 6,
     "metadata": {},
     "output_type": "execute_result"
    }
   ],
   "source": [
    "def count_operations(n):\n",
    "    num_operations = 0 \n",
    "    for i in range(n):\n",
    "        for j in range(n):\n",
    "            print(i, j)\n",
    "            num_operations += 1\n",
    "    return num_operations\n",
    "\n",
    "count_operations(3)"
   ]
  },
  {
   "cell_type": "code",
   "execution_count": null,
   "metadata": {},
   "outputs": [],
   "source": [
    "my_list = [2, 5, 7, 3, 8, 1]\n",
    "\n",
    "# check Big O Notation for this\n",
    "# Constant Space O(1) - In place algorithm\n",
    "def sort_list(a_list): # space complexity is CONSTANT O(1), always the same (just sorts through current memory)\n",
    "    a_list.sort()\n",
    "\n",
    "# Linear Space O(n) - Out of place algorithm\n",
    "def sort_list(a_list): # space complexity is linear, \n",
    "    return sorted(a_list)\n",
    "\n",
    "sort_list()"
   ]
  },
  {
   "cell_type": "markdown",
   "metadata": {},
   "source": [
    "## In-Place Algorithms"
   ]
  },
  {
   "cell_type": "markdown",
   "metadata": {},
   "source": [
    "#### Syntax"
   ]
  },
  {
   "cell_type": "code",
   "execution_count": 9,
   "metadata": {
    "scrolled": true
   },
   "outputs": [
    {
     "name": "stdout",
     "output_type": "stream",
     "text": [
      "[1, 2, 3, 4, 5]\n",
      "[5, 2, 3, 4, 5]\n",
      "[5, 2, 3, 4, 1]\n"
     ]
    }
   ],
   "source": [
    "list1 = [1,2,3,4,5]\n",
    "\n",
    "# we are using a mutable item, list, and changing its contents in place, meaning they dont get stored\n",
    "def swap(a_list, index_a, index_b):\n",
    "    print(a_list)\n",
    "    temp = a_list[index_a] # without this temp variable, if you change a list index it doesnt work\n",
    "    a_list[index_a] = a_list[index_b]\n",
    "    print(a_list)\n",
    "    a_list[index_b] = temp\n",
    "    print(a_list)\n",
    "    \n",
    "    \n",
    "swap(list1, 0, 4)"
   ]
  },
  {
   "cell_type": "code",
   "execution_count": null,
   "metadata": {},
   "outputs": [],
   "source": [
    "# a_list[a], a_list[b] = a_list[b], a_list[a]\n"
   ]
  },
  {
   "cell_type": "code",
   "execution_count": 10,
   "metadata": {},
   "outputs": [
    {
     "name": "stdout",
     "output_type": "stream",
     "text": [
      "before fn [12, 39, 56, 60]\n",
      "after fn [12, 60, 56, 39]\n"
     ]
    }
   ],
   "source": [
    "# this is also in place, so there is no return, and no added memory space, just changes values in place\n",
    "def swap2(a_list, index_a, index_b):\n",
    "    a_list[index_a], a_list[index_b] = a_list[index_b], a_list[index_a]\n",
    "    \n",
    "list2 = [12, 39, 56, 60]\n",
    "\n",
    "print('before fn', list2)\n",
    "swap2(list2, 1, 3)\n",
    "print('after fn', list2)"
   ]
  },
  {
   "cell_type": "markdown",
   "metadata": {},
   "source": [
    "#### Out of Place Algorithm"
   ]
  },
  {
   "cell_type": "code",
   "execution_count": 15,
   "metadata": {},
   "outputs": [
    {
     "name": "stdout",
     "output_type": "stream",
     "text": [
      "before fn ['IL', 'TX', 'CA', 'WA']\n",
      "after fn ['IL', 'TX', 'CA', 'WA']\n",
      "new_list3 ['CA', 'TX', 'IL', 'WA']\n"
     ]
    }
   ],
   "source": [
    "# this is an out of place algorithm bc the original list IS NOT CHANGED, so by creating a \n",
    "# copy, you create additional memory for the copied list, since it is like a \"new object\"\n",
    "def out_of_place_swap(original_list, index1, index2):\n",
    "    # create a copy of the list\n",
    "    new_list = original_list[:]\n",
    "    # set the value at index1 of the new copied list to the value at index2 of the original\n",
    "    new_list[index1] = original_list[index2]\n",
    "    # vice versa\n",
    "    new_list[index2] = original_list[index1]\n",
    "    return new_list\n",
    "\n",
    "list3 = ['IL', 'TX', 'CA', 'WA']\n",
    "\n",
    "print('before fn', list3)\n",
    "new_list3 = out_of_place_swap(list3, 0, 2)\n",
    "print('after fn', list3)\n",
    "print('new_list3', new_list3)"
   ]
  },
  {
   "cell_type": "code",
   "execution_count": 16,
   "metadata": {},
   "outputs": [
    {
     "name": "stdout",
     "output_type": "stream",
     "text": [
      "before sort [5, 3, 6, 4, 3, 2, 1]\n",
      "after [1, 2, 3, 3, 4, 5, 6]\n"
     ]
    }
   ],
   "source": [
    "unsorted_list = [5,3,6,4,3,2,1]\n",
    "\n",
    "# .sort() is an inplace fn method\n",
    "print('before sort', unsorted_list)\n",
    "unsorted_list.sort()\n",
    "print('after', unsorted_list)"
   ]
  },
  {
   "cell_type": "code",
   "execution_count": 18,
   "metadata": {},
   "outputs": [
    {
     "name": "stdout",
     "output_type": "stream",
     "text": [
      "before sort [5, 3, 6, 4, 3, 2, 1]\n",
      "after [5, 3, 6, 4, 3, 2, 1]\n"
     ]
    },
    {
     "data": {
      "text/plain": [
       "[1, 2, 3, 3, 4, 5, 6]"
      ]
     },
     "execution_count": 18,
     "metadata": {},
     "output_type": "execute_result"
    }
   ],
   "source": [
    "unsorted_list = [5,3,6,4,3,2,1]\n",
    "\n",
    "print('before sort', unsorted_list)\n",
    "sorted_list = sorted(unsorted_list)\n",
    "print('after', unsorted_list)\n",
    "sorted_list"
   ]
  },
  {
   "cell_type": "code",
   "execution_count": null,
   "metadata": {},
   "outputs": [],
   "source": []
  },
  {
   "cell_type": "markdown",
   "metadata": {},
   "source": [
    "#### In-Class Exercise #1 <br>\n",
    "<p>Write a function that takes in four arguments (a_list, index1, index2, index3), and swaps those three positions in the list passed in.</p>"
   ]
  },
  {
   "cell_type": "code",
   "execution_count": 29,
   "metadata": {},
   "outputs": [
    {
     "name": "stdout",
     "output_type": "stream",
     "text": [
      "[1, 2, 3]\n",
      "[2, 3, 1]\n"
     ]
    }
   ],
   "source": [
    "def swap3(a_list, index1, index2, index3):\n",
    "    a_list[index1], a_list[index2], a_list[index3] = a_list[index2], a_list[index3], a_list[index1]\n",
    "#     1, 3, 5 = 3, 5, 1\n",
    "    \n",
    "list1 = [1,2,3]\n",
    "    \n",
    "print(list1)\n",
    "swap3(list1, 0, 1, 2)\n",
    "print(list1)"
   ]
  },
  {
   "cell_type": "code",
   "execution_count": 30,
   "metadata": {},
   "outputs": [
    {
     "name": "stdout",
     "output_type": "stream",
     "text": [
      "[1, 2, 3]\n",
      "[1, 2, 3]\n"
     ]
    }
   ],
   "source": [
    "def swap3(a_list, index1, index2, index3):\n",
    "    new_list = a_list[:]\n",
    "    new_list\n",
    "    #     1, 3, 5 = 3, 5, 1\n",
    "    \n",
    "list1 = [1,2,3]\n",
    "    \n",
    "print(list1)\n",
    "swap3(list1, 0, 1, 2)\n",
    "print(list1)"
   ]
  },
  {
   "cell_type": "markdown",
   "metadata": {},
   "source": [
    "## Two Pointers"
   ]
  },
  {
   "cell_type": "markdown",
   "metadata": {},
   "source": [
    "#### Syntax"
   ]
  },
  {
   "cell_type": "code",
   "execution_count": 31,
   "metadata": {},
   "outputs": [
    {
     "name": "stdout",
     "output_type": "stream",
     "text": [
      "[1, 2, 3, 4, 5, 6, 7, 8, 9, 10]\n",
      "[10, 9, 8, 7, 6, 5, 4, 3, 2, 1]\n"
     ]
    }
   ],
   "source": [
    "def reverse_swap(a_list):\n",
    "    # create 2 variables to point to the index we want to swap\n",
    "    left = 0 # first element in the list (0-based index)\n",
    "    right = len(a_list) -1 # last element in the list\n",
    "    while left < right:\n",
    "        a_list[left], a_list[right] = a_list[right], a_list[left]\n",
    "        # move the left pointer one index to the right\n",
    "        left += 1\n",
    "        # move the right pointer one index to the left\n",
    "        right -= 1\n",
    "        \n",
    "        \n",
    "list4 = [1,2,3,4,5,6,7,8,9,10]\n",
    "\n",
    "print(list4)\n",
    "reverse_swap(list4)\n",
    "print(list4)"
   ]
  },
  {
   "cell_type": "code",
   "execution_count": null,
   "metadata": {},
   "outputs": [],
   "source": []
  },
  {
   "cell_type": "markdown",
   "metadata": {},
   "source": [
    "# Sorting Algorithms"
   ]
  },
  {
   "cell_type": "code",
   "execution_count": 69,
   "metadata": {
    "scrolled": true
   },
   "outputs": [
    {
     "name": "stdout",
     "output_type": "stream",
     "text": [
      "[45, 97, 89, 27, 70, 58, 77, 47, 88, 96]\n"
     ]
    }
   ],
   "source": [
    "from random import randint\n",
    "\n",
    "list_to_sort = [randint(1, 100) for _ in range(10)]\n",
    "print(list_to_sort)"
   ]
  },
  {
   "cell_type": "markdown",
   "metadata": {},
   "source": [
    "#### Bubble Sort\n",
    "\n",
    "Worst Case: O(n^2) Time - O(1) Space"
   ]
  },
  {
   "cell_type": "code",
   "execution_count": 72,
   "metadata": {},
   "outputs": [
    {
     "data": {
      "text/plain": [
       "[27, 45, 47, 58, 70, 77, 88, 89, 96, 97]"
      ]
     },
     "execution_count": 72,
     "metadata": {},
     "output_type": "execute_result"
    }
   ],
   "source": [
    "def bubble_sort(lst): # O(1) space; O(n^2) time\n",
    "    # when we first start, we assume the list is unsorted\n",
    "    is_sorted = False\n",
    "    # while the list is unsorted, loop through the list and 'bubble' the largest to the top (far right)\n",
    "    while not is_sorted:\n",
    "        # assume the loop is now sorted\n",
    "        is_sorted = True\n",
    "        # begin the loop using the index of the list\n",
    "        for idx in range(len(lst) - 1):\n",
    "            # if the value of the list at the current index is > the value to its right\n",
    "            if lst[idx] > lst[idx + 1]:\n",
    "                # if True, swap those two values\n",
    "                lst[idx], lst[idx + 1] = lst[idx + 1], lst[idx]\n",
    "                # if we have to swap, that means our list is not sorted...\n",
    "                is_sorted = False\n",
    "                \n",
    "    # Return the sorted list\n",
    "    return lst\n",
    "\n",
    "bubble_sort(list_to_sort)"
   ]
  },
  {
   "cell_type": "markdown",
   "metadata": {},
   "source": [
    "##### Insertion Sort\n",
    "\n",
    "Worst Case: O(n^2) time - O(1)space"
   ]
  },
  {
   "cell_type": "code",
   "execution_count": 73,
   "metadata": {},
   "outputs": [
    {
     "data": {
      "text/plain": [
       "[3, 4, 24, 54, 59, 345, 34509, 34532]"
      ]
     },
     "execution_count": 73,
     "metadata": {},
     "output_type": "execute_result"
    }
   ],
   "source": [
    "list_to_sort = [24, 4, 3, 59, 34509, 345, 34532, 54]\n",
    "\n",
    "def insertion_sort(lst):\n",
    "    # 'mark' 1st element as 'sorted', loop over the rest of the 'unsorted' section (1 index -> end of list)\n",
    "    for idx in range(1, len(lst)):\n",
    "        # while we're not at the front of the list and the element is less than the element to its left\n",
    "        while idx > 0 and lst[idx] < lst[idx - 1]:\n",
    "            # swap our element w the element to its left\n",
    "            lst[idx], lst[idx - 1] = lst[idx - 1], lst[idx]\n",
    "            # move our pointer left one element (to match the new swap)\n",
    "            idx -= 1\n",
    "            \n",
    "    # after loop finished return lst\n",
    "    return lst\n",
    "\n",
    "insertion_sort(list_to_sort)"
   ]
  },
  {
   "cell_type": "markdown",
   "metadata": {},
   "source": [
    "## Merge Sort"
   ]
  },
  {
   "cell_type": "markdown",
   "metadata": {},
   "source": [
    "#### How it Works"
   ]
  },
  {
   "cell_type": "code",
   "execution_count": 80,
   "metadata": {},
   "outputs": [],
   "source": [
    "list_to_sort = [3, 24, 4, 59, 34509, 345, 34532, 54]\n",
    "\n",
    "def merge_sort(lst):\n",
    "    if len(lst) > 1:\n",
    "        midway = len(lst) // 2\n",
    "        print('Splitting...', lst)\n",
    "        left_half = lst[:midway]\n",
    "        right_half = lst[midway:]\n",
    "        \n",
    "        merge_sort(left_half)\n",
    "        merge_sort(right_half)\n",
    "        \n",
    "        l = 0 # pointer for left half of list\n",
    "        r = 0 # pointer for right half of list\n",
    "        m = 0 # pointer for main list\n",
    "        \n",
    "        while l < len(left_half) and r < len(right_half):\n",
    "            if left_half[l] < right_half[r]:\n",
    "                lst[m] = left_half[l]\n",
    "                l += 1\n",
    "            else:\n",
    "                lst[m] = right_half[r]\n",
    "                r += 1\n",
    "            m += 1\n",
    "            \n",
    "        while l < len(left_half):\n",
    "            lst[m] = left_half[l]\n",
    "            l += 1\n",
    "            m += 1\n",
    "        while r < len(right_half):\n",
    "            lst[m] = right_half[r]\n",
    "            r += 1\n",
    "            m += 1\n",
    "            \n",
    "            \n",
    "    print('merging...', lst)\n",
    "    return lst\n",
    "\n",
    "\n",
    "# merge_sort(list_to_sort)"
   ]
  },
  {
   "cell_type": "code",
   "execution_count": 79,
   "metadata": {},
   "outputs": [
    {
     "name": "stdout",
     "output_type": "stream",
     "text": [
      "Splitting... [3, 24, 4, 59, 34509, 345, 34532, 54]\n",
      "Splitting... [3, 24, 4, 59]\n",
      "Splitting... [3, 24]\n",
      "merging... [3]\n",
      "merging... [24]\n",
      "merging... [3, 24]\n",
      "Splitting... [4, 59]\n",
      "merging... [4]\n",
      "merging... [59]\n",
      "merging... [4, 59]\n",
      "merging... [3, 4, 24, 59]\n",
      "Splitting... [34509, 345, 34532, 54]\n",
      "Splitting... [34509, 345]\n",
      "merging... [34509]\n",
      "merging... [345]\n",
      "merging... [345, 34509]\n",
      "Splitting... [34532, 54]\n",
      "merging... [34532]\n",
      "merging... [54]\n",
      "merging... [54, 34532]\n",
      "merging... [54, 345, 34509, 34532]\n",
      "merging... [3, 4, 24, 54, 59, 345, 34509, 34532]\n"
     ]
    },
    {
     "data": {
      "text/plain": [
       "[3, 4, 24, 54, 59, 345, 34509, 34532]"
      ]
     },
     "execution_count": 79,
     "metadata": {},
     "output_type": "execute_result"
    }
   ],
   "source": [
    "list_to_sort = [3, 24, 4, 59, 34509, 345, 34532, 54]\n",
    "\n",
    "def merge_sort(lst):\n",
    "    # if the list is larger than 1 element, split the list\n",
    "    if len(lst) > 1:\n",
    "        # find midway point of the list\n",
    "        midway = len(lst) // 2\n",
    "        print('Splitting...', lst)\n",
    "        # slice the main list from the beginning to the midway point\n",
    "        left_half = lst[:midway]\n",
    "        # slice the main list from the midway to the end\n",
    "        right_half = lst[midway:]\n",
    "        \n",
    "        # recursively call merge_sort fn on left half, and right half\n",
    "        merge_sort(left_half)\n",
    "        merge_sort(right_half)\n",
    "        \n",
    "        # merge the left and right half back into the main list pointers\n",
    "        l = 0 # pointer for left half of list\n",
    "        r = 0 # pointer for right half of list\n",
    "        m = 0 # pointer for main list\n",
    "        \n",
    "        # while our left and right pointers are still pointing at valid indeces\n",
    "        while l < len(left_half) and r < len(right_half):\n",
    "            # if the element in the left list is leess than the element in the right list\n",
    "            if left_half[l] < right_half[r]:\n",
    "                # place the left element in the main list\n",
    "                lst[m] = left_half[l]\n",
    "                # move the left list pointer to the right one element\n",
    "                l += 1\n",
    "            # if right list element is less than left list element\n",
    "            else:\n",
    "                #place the right element in the main list\n",
    "                lst[m] = right_half[r]\n",
    "                # move the right list pointer to the right one element\n",
    "                r += 1\n",
    "            # either way, always move the main pointer to teh right one element\n",
    "            m += 1\n",
    "            \n",
    "        # if the right list is done, fill the mian list w the rest of the sorted left half\n",
    "        while l < len(left_half):\n",
    "            lst[m] = left_half[l]\n",
    "            l += 1\n",
    "            m += 1\n",
    "         # if the left list is done, fill the mian list w the rest of the sorted right half\n",
    "        while r < len(right_half):\n",
    "            lst[m] = right_half[r]\n",
    "            r += 1\n",
    "            m += 1\n",
    "            \n",
    "            \n",
    "    print('merging...', lst)\n",
    "    return lst\n",
    "\n",
    "\n",
    "merge_sort(list_to_sort)"
   ]
  },
  {
   "cell_type": "code",
   "execution_count": null,
   "metadata": {},
   "outputs": [],
   "source": []
  },
  {
   "cell_type": "code",
   "execution_count": null,
   "metadata": {},
   "outputs": [],
   "source": []
  },
  {
   "cell_type": "markdown",
   "metadata": {},
   "source": [
    "# Binary Search\n",
    "\n",
    "The Binary Search algorithm works by finding the number in the middle of a given array and comparing it to the target. **Given that the array is sorted**\n",
    "\n",
    "* The worst case run time for this algorithm is `O(log(n))`"
   ]
  },
  {
   "cell_type": "code",
   "execution_count": 90,
   "metadata": {},
   "outputs": [
    {
     "data": {
      "text/plain": [
       "'The index for 34509 is 6'"
      ]
     },
     "execution_count": 90,
     "metadata": {},
     "output_type": "execute_result"
    }
   ],
   "source": [
    "# Less == Left\n",
    "# Greater == Right\n",
    "# ***List of numbers MUST be sorted\n",
    "\n",
    "\n",
    "\n",
    "def binary_search(lst, target_element):\n",
    "    # set a low and high pointer\n",
    "    low = 0 # low part of sorted list\n",
    "    high = len(lst) - 1 # highest index of list\n",
    "    while low <= high:\n",
    "        # find the midway point\n",
    "        mid = (low + high) // 2\n",
    "        # check if the midway point is equal to our target element\n",
    "        if lst[mid] == target_element:\n",
    "            return f'The index for {target_element} is {mid}'\n",
    "        # if the value at the midway point is greater than the target element\n",
    "        elif lst[mid] > target_element:\n",
    "            # set the high point to be one lower than the midway point\n",
    "            high = mid - 1\n",
    "        # if value at midway is less than target\n",
    "        else:\n",
    "            # set the low point to be one higher than the midway point\n",
    "            low = mid + 1\n",
    "            \n",
    "    # if low gets higher than high before we return target index, return -1 to show element not found\n",
    "    return -1\n",
    "            \n",
    "sorted_list = [3, 4, 24, 54, 59, 345, 34509, 34532]\n",
    "\n",
    "binary_search(sorted_list, 34509)"
   ]
  },
  {
   "cell_type": "markdown",
   "metadata": {},
   "source": [
    "# Exercises"
   ]
  },
  {
   "cell_type": "markdown",
   "metadata": {},
   "source": [
    "## Exercise #3\n",
    "\n",
    "Write a function implementing a Linear Search Algorithm. A linear search is a method for finding an element within a list. It sequentially checks each element of the list until a match is found or the whole list has been searched. If you do not find a match, return -1"
   ]
  },
  {
   "cell_type": "code",
   "execution_count": 152,
   "metadata": {},
   "outputs": [
    {
     "data": {
      "text/plain": [
       "45"
      ]
     },
     "execution_count": 152,
     "metadata": {},
     "output_type": "execute_result"
    }
   ],
   "source": [
    "nums_list = [10,23,45,70,11,15]\n",
    "target = 45 # the index for 70 is 3\n",
    "# If number is not present return -1\n",
    "def linear(xlist, target):\n",
    "    # let me try by cheating\n",
    "#     if target in xlist:\n",
    "#         return target\n",
    "#     return -1\n",
    "    return target if target in xlist else -1\n",
    "\n",
    "linear(nums_list, target)"
   ]
  },
  {
   "cell_type": "code",
   "execution_count": 141,
   "metadata": {},
   "outputs": [
    {
     "data": {
      "text/plain": [
       "'70 found at index 3'"
      ]
     },
     "execution_count": 141,
     "metadata": {},
     "output_type": "execute_result"
    }
   ],
   "source": [
    "nums_list = [10,23,45,70,11,15]\n",
    "target = 70 # the index for 70 is 3\n",
    "# If number is not present return -1\n",
    "\n",
    "# linear search method stays within the list, searches for target and returns it when found. \n",
    "\n",
    "def linear(xlist, target):\n",
    "    # let me try by cheating\n",
    "    for n in set(xlist):\n",
    "        if n == target:\n",
    "            return f\"{target} found at index {xlist.index(target)}\"\n",
    "    else:\n",
    "        return -1\n",
    "\n",
    "linear(nums_list, target)"
   ]
  },
  {
   "cell_type": "markdown",
   "metadata": {},
   "source": [
    "### Exercise #1 <br>\n",
    "<p>Reverse the list below in-place using an in-place algorithm.<br>For extra credit: Reverse the strings at the same time.</p>"
   ]
  },
  {
   "cell_type": "code",
   "execution_count": null,
   "metadata": {},
   "outputs": [],
   "source": [
    "string = 'this'\n",
    "\n",
    "for c in string:\n",
    "    "
   ]
  },
  {
   "cell_type": "code",
   "execution_count": 112,
   "metadata": {},
   "outputs": [
    {
     "data": {
      "text/plain": [
       "['.', 'sentence', 'a', 'is', 'this']"
      ]
     },
     "execution_count": 112,
     "metadata": {},
     "output_type": "execute_result"
    }
   ],
   "source": [
    "words = ['this' , 'is', 'a', 'sentence', '.']\n",
    "# ['.', 'ecnetnes', 'a', 'si', 'siht']\n",
    "# reverse the string at the same time extra credit would be \n",
    "\n",
    "def reverse(xlist):\n",
    "    # need to create fn where all that matters is the index\n",
    "    # need to swap\n",
    "    # for each index starting from zero, go right\n",
    "    # for each index starting from end, go left\n",
    "        # repeat this UP UNTIL the index is at the midpoint or one past the midpoint\n",
    "        \n",
    "    # define the initial points for left and right\n",
    "    li, ri = 0, len(xlist) - 1\n",
    "    # if list at left index num is >= list at right index num, stop the loop\n",
    "    # okay, so i cant grab the index but instead the value at the index, so to get index you need range?\n",
    "    while li < ri:\n",
    "        # swap left value for right value using index\n",
    "        xlist[li], xlist[ri] = xlist[ri], xlist[li]\n",
    "        \n",
    "        # EXTRA\n",
    "        \n",
    "        # move li left, ri right\n",
    "#         print(xlist[li], xlist[ri])\n",
    "        li += 1\n",
    "        ri -= 1\n",
    "#         print(xlist)\n",
    "    return xlist    \n",
    "        \n",
    "        \n",
    "reverse(words)"
   ]
  },
  {
   "cell_type": "markdown",
   "metadata": {},
   "source": [
    "### Exercise #2 <br>\n",
    "<p>Create a function that counts how many distinct words are in the string below, then outputs a dictionary with the words as the key and the value as the amount of times that word appears in the string.</p>\n",
    "Example Output:<code>{'in': 1, 'computing': 1, 'a': 5, ...}</code>"
   ]
  },
  {
   "cell_type": "code",
   "execution_count": 139,
   "metadata": {},
   "outputs": [
    {
     "data": {
      "text/plain": [
       "{'in': 1,\n",
       " 'computing': 1,\n",
       " 'a': 5,\n",
       " 'hash': 4,\n",
       " 'table': 2,\n",
       " 'map': 2,\n",
       " 'is': 1,\n",
       " 'data': 2,\n",
       " 'structure': 2,\n",
       " 'which': 2,\n",
       " 'implements': 1,\n",
       " 'an': 3,\n",
       " 'associative': 1,\n",
       " 'array': 2,\n",
       " 'abstract': 1,\n",
       " 'type': 1,\n",
       " 'that': 1,\n",
       " 'can': 2,\n",
       " 'keys': 1,\n",
       " 'to': 2,\n",
       " 'values': 1,\n",
       " 'uses': 1,\n",
       " 'function': 1,\n",
       " 'compute': 1,\n",
       " 'index': 1,\n",
       " 'into': 1,\n",
       " 'of': 1,\n",
       " 'buckets': 1,\n",
       " 'or': 1,\n",
       " 'slots': 1,\n",
       " 'from': 1,\n",
       " 'the': 1,\n",
       " 'desired': 1,\n",
       " 'value': 1,\n",
       " 'be': 1,\n",
       " 'found': 1}"
      ]
     },
     "execution_count": 139,
     "metadata": {},
     "output_type": "execute_result"
    }
   ],
   "source": [
    "a_text = 'In computing, a hash table hash map is a data structure which \\\n",
    "implements an associative array abstract data type, a structure that can map \\\n",
    "keys to values. A hash table uses a hash function to compute an index into an \\\n",
    "array of buckets or slots from which the desired value can be found'\n",
    "\n",
    "text2 = 'Buckets and buckets of rain. They rained down on me those buckets. More rain to come'\n",
    "\n",
    "\n",
    "def counter(a_text):\n",
    "    # need to read through each word and if word not in dictionary, add to dictionary, but if in dict, add to word total\n",
    "    # need to create dict with word as key AND count of word as int\n",
    "    \n",
    "    # empty dict, \n",
    "    distinct_words = {}\n",
    "    \n",
    "    # create split list of the text\n",
    "#     print(a_text.split(\" \"))\n",
    "    words = a_text.split(\" \")\n",
    "    \n",
    "    # if split str item is alpha, check if it is in dict\n",
    "    raw_words = [word.lower().strip(',.') for word in words]\n",
    "        \n",
    "    for word in raw_words:\n",
    "        distinct_words[word] = raw_words.count(word)\n",
    "    \n",
    "    # return the dict\n",
    "    return distinct_words\n",
    "    \n",
    "    \n",
    "counter(a_text)"
   ]
  }
 ],
 "metadata": {
  "kernelspec": {
   "display_name": "Python 3",
   "language": "python",
   "name": "python3"
  },
  "language_info": {
   "codemirror_mode": {
    "name": "ipython",
    "version": 3
   },
   "file_extension": ".py",
   "mimetype": "text/x-python",
   "name": "python",
   "nbconvert_exporter": "python",
   "pygments_lexer": "ipython3",
   "version": "3.8.3"
  }
 },
 "nbformat": 4,
 "nbformat_minor": 2
}
